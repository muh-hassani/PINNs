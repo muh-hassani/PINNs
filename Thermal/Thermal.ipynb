{
  "nbformat": 4,
  "nbformat_minor": 0,
  "metadata": {
    "colab": {
      "provenance": [],
      "include_colab_link": true
    },
    "kernelspec": {
      "name": "python3",
      "display_name": "Python 3"
    },
    "language_info": {
      "name": "python"
    }
  },
  "cells": [
    {
      "cell_type": "markdown",
      "metadata": {
        "id": "view-in-github",
        "colab_type": "text"
      },
      "source": [
        "<a href=\"https://colab.research.google.com/github/phyml4e/PINNs/blob/main/Thermal/Thermal.ipynb\" target=\"_parent\"><img src=\"https://colab.research.google.com/assets/colab-badge.svg\" alt=\"Open In Colab\"/></a>"
      ]
    },
    {
      "cell_type": "markdown",
      "source": [
        "**More information about this short introduction/code as well as the performance of some possible version of PINNs can be found in our paper:**\n",
        "\n",
        "https://www.sciencedirect.com/science/article/abs/pii/S0045782522005722\n",
        "\n",
        "http://arxiv.org/abs/2206.13103\n",
        "\n",
        "**For more information about PINNs in general see:**\n",
        "\n",
        "https://arxiv.org/abs/1711.10561\n",
        "\n",
        "**For more information about SciAnn library see:**\n",
        "\n",
        "https://arxiv.org/abs/2005.08803\n",
        "\n",
        "**SciAnn** is a library for the performing Physics-Informed Neural Network. More info can be found at www.sciann.com.\n",
        "\n"
      ],
      "metadata": {
        "id": "ahsKk3zXzryQ"
      }
    },
    {
      "cell_type": "code",
      "execution_count": 1,
      "metadata": {
        "colab": {
          "base_uri": "https://localhost:8080/"
        },
        "id": "4FI4DsIiu91R",
        "outputId": "00f74178-6aab-497c-c242-4a73f96dcf2d"
      },
      "outputs": [
        {
          "output_type": "stream",
          "name": "stdout",
          "text": [
            "\u001b[K     |████████████████████████████████| 168 kB 2.1 MB/s \n",
            "\u001b[K     |████████████████████████████████| 561 kB 21.2 MB/s \n",
            "\u001b[?25h  Building wheel for sklearn (setup.py) ... \u001b[?25l\u001b[?25hdone\n"
          ]
        }
      ],
      "source": [
        "# !pip install sciann -q"
      ]
    },
    {
      "cell_type": "markdown",
      "source": [
        "**Importing the necessary  libraries and functions.**"
      ],
      "metadata": {
        "id": "pmVozxAhzwqD"
      }
    },
    {
      "cell_type": "code",
      "source": [
        "import numpy as np \n",
        "import matplotlib.pyplot as plt\n",
        "import pandas as pd\n",
        "import sciann as sn\n",
        "from sciann.utils.math import diff, sqrt, abs\n",
        "import tensorflow as tf"
      ],
      "metadata": {
        "colab": {
          "base_uri": "https://localhost:8080/"
        },
        "id": "wS7h6fg7y1mw",
        "outputId": "b946bb48-9aa2-4084-e985-7f616ff9869d"
      },
      "execution_count": 2,
      "outputs": [
        {
          "output_type": "stream",
          "name": "stdout",
          "text": [
            "---------------------- SCIANN 0.6.7.6 ---------------------- \n",
            "For details, check out our review paper and the documentation at: \n",
            " +  \"https://www.sciencedirect.com/science/article/pii/S0045782520307374\", \n",
            " +  \"https://arxiv.org/abs/2005.08803\", \n",
            " +  \"https://www.sciann.com\". \n",
            "\n",
            " Need support or would like to contribute, please join sciann`s slack group: \n",
            " +  \"https://join.slack.com/t/sciann/shared_invite/zt-ne1f5jlx-k_dY8RGo3ZreDXwz0f~CeA\" \n",
            " \n",
            "TensorFlow Version: 2.8.2 \n",
            "Python Version: 3.7.14 (default, Sep  8 2022, 00:06:44) \n",
            "[GCC 7.5.0] \n",
            "\n"
          ]
        }
      ]
    },
    {
      "cell_type": "markdown",
      "source": [
        "**Choosing parameters and hyper-parameters of the neural network.**"
      ],
      "metadata": {
        "id": "TPgzxVEFz1rN"
      }
    },
    {
      "cell_type": "code",
      "source": [
        "dtype     = 'float64'       # type of the input\n",
        "n_of_n    = 5*[40]          # number of neurons (layers*[neurons])\n",
        "act       = 'tanh'          # activation function ## different activation\n",
        "                            # function can be used such as:\n",
        "                            # \"tanh\", \"softplus\", \"Relu\", \"sigmoid\", \"softmax\" \n",
        "LR        = 0.001           # learning rate in adam optimizer ## reduce for getting better (but slower) convergence\n",
        "Epochs    = 1000            # number of epochs ## increase for getting better accuracy\n",
        "batch     = 2601            # batch size ## increase for getting better accuracy\n",
        "Optimizer ='adam'           # other available optimizer in Keras \n",
        "                            # such as 'scipy-l-BFGS-B' , 'SGD'"
      ],
      "metadata": {
        "id": "lWzrKLAdy3yN"
      },
      "execution_count": 3,
      "outputs": []
    },
    {
      "cell_type": "code",
      "source": [
        "x = sn.Variable('x', dtype=dtype)\n",
        "y = sn.Variable('y', dtype=dtype)\n",
        "E = sn.Variable('E', dtype=dtype)\n",
        "\n",
        "T      = sn.Functional('T',     [x,y], n_of_n, act)\n",
        "q_x_O  = sn.Functional('gT_x',  [x,y], n_of_n, act)\n",
        "q_y_O  = sn.Functional('gT_y',  [x,y], n_of_n, act)\n",
        "\n",
        "gr_T_x = diff(T, x)\n",
        "gr_T_y = diff(T, y)\n",
        "q_x    = (-E)*(gr_T_x)\n",
        "q_y    = (-E)*(gr_T_y)"
      ],
      "metadata": {
        "id": "kmF_SSW7z-wB"
      },
      "execution_count": 4,
      "outputs": []
    },
    {
      "cell_type": "markdown",
      "source": [
        "**Importing collocation points**"
      ],
      "metadata": {
        "id": "j3Hf07Hk0gTu"
      }
    },
    {
      "cell_type": "code",
      "source": [
        "Load_data = np.loadtxt('https://raw.githubusercontent.com/phyml4e/PINNs/main/Thermal/CP.txt')\n",
        "\n",
        "x1 = Load_data[:,2]\n",
        "y1 = Load_data[:,3]\n",
        "e1 = Load_data[:,4]\n",
        "\n",
        "x_data = np.reshape(Load_data[:,2], (51,51))\n",
        "y_data = np.reshape(Load_data[:,3], (51,51))\n",
        "E_data = np.reshape(Load_data[:,4], (51,51))"
      ],
      "metadata": {
        "id": "M0t1-mv60aq0"
      },
      "execution_count": 5,
      "outputs": []
    },
    {
      "cell_type": "code",
      "source": [
        "result_FE = pd.read_csv('https://raw.githubusercontent.com/phyml4e/PINNs/main/Thermal/FE.csv')\n",
        "T_FE =  pd.DataFrame(result_FE, columns= ['Displacements'])\n",
        "q_x_FE =  pd.DataFrame(result_FE, columns= ['Stress/Strain:12'])\n",
        "q_y_FE =  pd.DataFrame(result_FE, columns= ['Stress/Strain:13'])\n",
        "grad_T_FE =  pd.DataFrame(result_FE, columns= ['Stress/Strain:15'])\n",
        "T_FE = np.array(T_FE)\n",
        "T_FE = np.reshape(T_FE, (51,51))\n",
        "q_x_FE = np.array(q_x_FE)\n",
        "q_x_FE = np.reshape(q_x_FE, (51,51))\n",
        "q_y_FE = np.array(q_y_FE)\n",
        "q_y_FE = np.reshape(q_y_FE, (51,51))\n",
        "grad_T_FE = np.array(grad_T_FE)\n",
        "grad_T_FE = np.reshape(grad_T_FE, (51,51))"
      ],
      "metadata": {
        "id": "WITmBs3s3Mlp"
      },
      "execution_count": 6,
      "outputs": []
    },
    {
      "cell_type": "markdown",
      "source": [
        "**Adding the governing equations into loss function**"
      ],
      "metadata": {
        "id": "6Evxr9q84Z-V"
      }
    },
    {
      "cell_type": "code",
      "source": [
        "# weights for equations\n",
        "w1 = 1\n",
        "w11 = 1\n",
        "w2 = 1\n",
        "w3 = 1\n",
        "w4 = 1\n",
        "w5 = 1\n",
        "wN = 1"
      ],
      "metadata": {
        "id": "4pPZ9Wol4W1_"
      },
      "execution_count": 7,
      "outputs": []
    },
    {
      "cell_type": "code",
      "source": [
        "def boundary_value_mask(x,y):\n",
        "    M = np.zeros(x.shape)\n",
        "    for i in range(len(x)):\n",
        "        if x[i]==0 or x[i]==1 or y[i]==0 or y[i]==1:\n",
        "            M[i] = 1\n",
        "    return M\n",
        "\n",
        "def boundary_value_mask_right(x,y):\n",
        "    M = np.zeros(x.shape)\n",
        "    for i in range(len(x)):\n",
        "        if x[i]==1:\n",
        "            M[i] = 1\n",
        "    return M\n",
        "\n",
        "def boundary_value_mask_left(x,y):\n",
        "    M = np.zeros(x.shape)\n",
        "    for i in range(len(x)):\n",
        "        if x[i]==0:\n",
        "            M[i] = 1\n",
        "    return M\n",
        "\n",
        "def boundary_value_mask_top(x,y):\n",
        "    M = np.zeros(x.shape)\n",
        "    for i in range(len(x)):\n",
        "        if y[i]==1:\n",
        "            M[i] = 1\n",
        "    return M\n",
        "\n",
        "def boundary_value_mask_bottom(x,y):\n",
        "    M = np.zeros(x.shape)\n",
        "    for i in range(len(x)):\n",
        "        if y[i]==0:\n",
        "            M[i] = 1\n",
        "    return M"
      ],
      "metadata": {
        "id": "AUOcFncZ4gzL"
      },
      "execution_count": 8,
      "outputs": []
    },
    {
      "cell_type": "code",
      "source": [
        "M_bound = boundary_value_mask(x1,y1)\n",
        "M_bound_right = boundary_value_mask_right(x1,y1)\n",
        "M_bound_left = boundary_value_mask_left(x1,y1)\n",
        "M_bound_top = boundary_value_mask_top(x1,y1)\n",
        "M_bound_bottom = boundary_value_mask_bottom(x1,y1)\n",
        "M_domain = np.array((M_bound==0)*1.0)\n",
        "nb = np.sum(M_bound)\n",
        "nb_r = np.sum(M_bound_right)\n",
        "nb_l = np.sum(M_bound_left)\n",
        "nb_t = np.sum(M_bound_top)\n",
        "nb_b = np.sum(M_bound_bottom)\n",
        "nd = np.sum(M_domain)\n",
        "M_bound_right = tf.convert_to_tensor(M_bound_right)\n",
        "M_bound_left = tf.convert_to_tensor(M_bound_left)\n",
        "M_bound_top = tf.convert_to_tensor(M_bound_top)\n",
        "M_bound_bottom = tf.convert_to_tensor(M_bound_bottom)\n",
        "M_domain = tf.convert_to_tensor(M_domain)"
      ],
      "metadata": {
        "id": "pPWz7ReIIbuv"
      },
      "execution_count": 9,
      "outputs": []
    },
    {
      "cell_type": "code",
      "source": [
        "################# ENERGY \n",
        "Work_int = np.sum(M_domain*(q_x * gr_T_x + q_y * gr_T_y), axis=-1)/(2*nd)\n",
        "\n",
        "Work_e_r = np.sum(M_bound_right*(q_x * T), axis=-1)/nb_r\n",
        "Work_e_l = np.sum(M_bound_left*(-q_x * T), axis=-1)/nb_l\n",
        "Work_e_t = np.sum(M_bound_top*(q_y * T), axis=-1)/nb_t\n",
        "Work_e_b = np.sum(M_bound_bottom*(-q_y * T), axis=-1)/nb_b\n",
        "Work_ext = Work_e_r + Work_e_l + Work_e_t + Work_e_b\n",
        "\n",
        "Work = sn.PDE(sqrt(abs(w1*Work_int - w1*Work_ext)))\n",
        "\n",
        "################# PDE\n",
        "PDE1 = sn.PDE(w2*diff(q_x_O, x) + w2*diff(q_y_O, y))\n",
        "\n",
        "################# CONECT\n",
        "EQ1  = sn.PDE(w3*q_x_O  - w3*q_x)\n",
        "EQ2  = sn.PDE(w3*q_y_O  - w3*q_y)\n",
        "\n",
        "################# ENERGY II\n",
        "#Work_int_O = np.sum(M_domain*(q_x_O * gr_T_x_O + q_y_O * gr_T_y_O), axis=-1)/(2*nd)\n",
        "Work_int_O = np.sum(M_domain*(q_x_O * gr_T_x + q_y_O * gr_T_y), axis=-1)/(2*nd)\n",
        "\n",
        "Work_e_O_r = np.sum(M_bound_right*(q_x_O * T), axis=-1)/nb_r\n",
        "Work_e_O_l = np.sum(M_bound_left*(-q_x_O * T), axis=-1)/nb_l\n",
        "Work_e_O_t = np.sum(M_bound_top*(q_y_O * T), axis=-1)/nb_t\n",
        "Work_e_O_b = np.sum(M_bound_bottom*(-q_y_O * T), axis=-1)/nb_b\n",
        "Work_ext_O = Work_e_O_r + Work_e_O_l + Work_e_O_t + Work_e_O_b\n",
        "\n",
        "Work_O = sn.PDE(sqrt(abs(w11*Work_int_O - w11*Work_ext_O)))"
      ],
      "metadata": {
        "id": "VcdbhFJv4kSo"
      },
      "execution_count": 10,
      "outputs": []
    },
    {
      "cell_type": "code",
      "source": [
        "################# BCs\n",
        "BC1  = (x==0.)*(w4*T - w4*1.0)       #left\n",
        "BC2  = (x==1.)*(w4*T)                #right temp\n",
        "\n",
        "BC3  = (y==0.)*(w5*q_y)              #down q_y\n",
        "BC4  = (y==0.)*(wN*q_y_O)            #down q_y\n",
        "\n",
        "BC5 = (y==1.)*(w5*q_y)               #up q_y\n",
        "BC6 = (y==1.)*(wN*q_y_O)             #up q_y"
      ],
      "metadata": {
        "id": "1NE9ih8h4qkK"
      },
      "execution_count": 11,
      "outputs": []
    },
    {
      "cell_type": "code",
      "source": [
        "model = sn.SciModel([x, y, E], [Work, Work_O, PDE1, EQ1, EQ2, BC1, BC2, BC3, BC4, BC5, BC6], loss_func=\"mse\")"
      ],
      "metadata": {
        "id": "CU88fnso4sfu"
      },
      "execution_count": 12,
      "outputs": []
    },
    {
      "cell_type": "code",
      "source": [
        "input_data = [x1, y1, e1]\n",
        "target_data = 11*['zeros']"
      ],
      "metadata": {
        "id": "AhLSD2n340F9"
      },
      "execution_count": 13,
      "outputs": []
    },
    {
      "cell_type": "markdown",
      "source": [
        "**Training the network**"
      ],
      "metadata": {
        "id": "sNrOODTi5cKJ"
      }
    },
    {
      "cell_type": "code",
      "source": [
        "history = model.train(input_data, target_data, learning_rate=LR, epochs=Epochs, batch_size=batch, verbose=0)"
      ],
      "metadata": {
        "id": "K-2qZH6c48Yx"
      },
      "execution_count": null,
      "outputs": []
    },
    {
      "cell_type": "markdown",
      "source": [
        "# Post processing"
      ],
      "metadata": {
        "id": "7oS4_KJPaGXm"
      }
    },
    {
      "cell_type": "markdown",
      "source": [
        "**History of loss function through epochs**"
      ],
      "metadata": {
        "id": "p8xY78ByOpsO"
      }
    },
    {
      "cell_type": "code",
      "source": [
        "loss_name = ['loss', 'Work', 'Work_O', 'PDE1', 'EQ1', 'EQ2', 'BC1', 'BC2', 'BC3', 'BC4', 'BC5', 'BC6']\n",
        "fig = plt.figure(figsize=(12, 7))\n",
        "itter = 0 \n",
        "for word, loss in history.history.items():\n",
        "        if word.endswith(\"loss\"):\n",
        "            plt.semilogy(np.array(loss), label=loss_name[itter])\n",
        "            itter+=1\n",
        "plt.legend()\n",
        "plt.xlabel('epochs')\n",
        "plt.ylabel('loss')"
      ],
      "metadata": {
        "id": "3hKMvK1A5gqN"
      },
      "execution_count": null,
      "outputs": []
    },
    {
      "cell_type": "code",
      "source": [
        "fig = plt.figure(figsize=(12, 7))\n",
        "plt.semilogy(history.history['loss'], label='Total_loss')\n",
        "plt.legend()\n",
        "plt.xlabel('epochs')\n",
        "plt.ylabel('Total-loss')"
      ],
      "metadata": {
        "id": "ejyaYlok5voL"
      },
      "execution_count": null,
      "outputs": []
    },
    {
      "cell_type": "markdown",
      "source": [
        "**Comparing the network prediction and FE results.**"
      ],
      "metadata": {
        "id": "C9cUbklFOwKU"
      }
    },
    {
      "cell_type": "code",
      "source": [
        "# model.load_weights('model_v1_temperature.hdf5') # uncomment to show the result after 100k Epochs"
      ],
      "metadata": {
        "id": "DgZWB4HY7UZL"
      },
      "execution_count": 14,
      "outputs": []
    },
    {
      "cell_type": "code",
      "source": [
        "T_pred     = T.eval(model, [x_data, y_data, E_data])\n",
        "q_x_pred   = q_x.eval(model, [x_data, y_data, E_data])\n",
        "q_y_pred   = q_y.eval(model, [x_data, y_data, E_data])\n",
        "q_x_O_pred = q_x_O.eval(model, [x_data, y_data, E_data])\n",
        "q_y_O_pred = q_y_O.eval(model, [x_data, y_data, E_data])\n",
        "##### computing the errors \n",
        "T_error = np.abs(T_pred- T_FE)\n",
        "q_x_error = np.abs(q_x_pred- q_x_FE)\n",
        "q_y_error = np.abs(q_y_pred- q_y_FE)"
      ],
      "metadata": {
        "id": "AUYMnSt_6GII"
      },
      "execution_count": 15,
      "outputs": []
    },
    {
      "cell_type": "code",
      "source": [
        "fig,ax = plt.subplots(3,3,figsize=(12,10.5))\n",
        "plt.colorbar(ax[0,0].pcolor(x_data, y_data, T_pred, cmap='rainbow',vmin=T_FE.min(), vmax=T_FE.max(), linewidth=0,rasterized=True)\n",
        "                            ,ax=ax[0,0], ticks=[T_FE.min(),T_FE.max()])\n",
        "plt.colorbar(ax[0,1].pcolor(x_data, y_data, T_FE, cmap='rainbow',vmin=T_FE.min(), vmax=T_FE.max(), linewidth=0,rasterized=True) \n",
        "                            ,ax=ax[0,1], ticks=[T_FE.min(),T_FE.max()])\n",
        "plt.colorbar(ax[0,2].pcolor(x_data, y_data, T_error, cmap='rainbow',vmin=T_error.min(), vmax=T_error.max(), linewidth=0,rasterized=True)\n",
        "                            ,ax=ax[0,2], ticks=[T_error.min(),T_error.max()])\n",
        "\n",
        "plt.colorbar(ax[1,0].pcolor(x_data, y_data, q_x_pred, cmap='jet', vmin=q_x_FE.min(), vmax=q_x_FE.max(), linewidth=0,rasterized=True)\n",
        "                            ,ax=ax[1,0], ticks=[q_x_FE.min(),q_x_FE.max()])\n",
        "plt.colorbar(ax[1,1].pcolor(x_data, y_data, q_x_FE, cmap='jet',vmin=q_x_FE.min(), vmax=q_x_FE.max(), linewidth=0,rasterized=True)\n",
        "                            ,ax=ax[1,1], ticks=[q_x_FE.min(),q_x_FE.max()])\n",
        "plt.colorbar(ax[1,2].pcolor(x_data, y_data, q_x_error, cmap='jet',vmin=q_x_error.min(), vmax=q_x_error.max(), linewidth=0,rasterized=True)\n",
        "                            ,ax=ax[1,2], ticks=[q_x_error.min(),q_x_error.max()])\n",
        "\n",
        "plt.colorbar(ax[2,0].pcolor(x_data, y_data, q_y_pred, cmap='jet',vmin=q_y_FE.min(), vmax=q_y_FE.max(),linewidth=0,rasterized=True)\n",
        "                            ,ax=ax[2,0],ticks=[q_y_FE.min(),q_y_FE.max()])\n",
        "plt.colorbar(ax[2,1].pcolor(x_data, y_data, q_y_FE, cmap='jet',vmin=q_y_FE.min(), vmax=q_y_FE.max(),linewidth=0,rasterized=True)\n",
        "                            ,ax=ax[2,1],ticks=[q_y_FE.min(),q_y_FE.max()])\n",
        "plt.colorbar(ax[2,2].pcolor(x_data, y_data, q_y_error, cmap='jet',vmin=q_y_error.min(), vmax=q_y_error.max(),linewidth=0,rasterized=True)\n",
        "                            ,ax=ax[2,2],ticks=[q_y_error.min(),q_y_error.max()])\n",
        "\n",
        "ax[0,0].set_title(r'$T \\, \\, \\, \\, PINNs$'),ax[0,1].set_title(r'$T \\, \\, \\, \\, FE$'),ax[0,2].set_title(r'$T \\, \\, \\, \\, error$')\n",
        "ax[1,0].set_title(r'$q_x \\, \\, \\, \\, PINNs$'),ax[1,1].set_title(r'$q_x \\, \\, \\, \\, FE$'),ax[1,2].set_title(r'$q_x \\, \\, \\, \\, error$')\n",
        "ax[2,0].set_title(r'$q_y \\, \\, \\, \\, PINNs$'),ax[2,1].set_title(r'$q_y \\, \\, \\, \\, FE$'),ax[2,2].set_title(r'$q_y \\, \\, \\, \\, error$')\n",
        "ax[0,0].set_yticks([]), ax[0,1].set_yticks([]), ax[0,2].set_yticks([])\n",
        "ax[1,0].set_yticks([]), ax[1,1].set_yticks([]), ax[1,2].set_yticks([])\n",
        "ax[2,0].set_yticks([]), ax[2,1].set_yticks([]), ax[2,2].set_yticks([])\n",
        "ax[0,0].set_xticks([]), ax[0,1].set_xticks([]), ax[0,2].set_xticks([])\n",
        "ax[1,0].set_xticks([]), ax[1,1].set_xticks([]), ax[1,2].set_xticks([])\n",
        "ax[2,0].set_xticks([]), ax[2,1].set_xticks([]), ax[2,2].set_xticks([])"
      ],
      "metadata": {
        "colab": {
          "base_uri": "https://localhost:8080/",
          "height": 641
        },
        "id": "eTYrJSFRJJcH",
        "outputId": "9829753f-cbaf-4a0d-9d11-8a8d0615d897"
      },
      "execution_count": 16,
      "outputs": [
        {
          "output_type": "execute_result",
          "data": {
            "text/plain": [
              "([], [], [])"
            ]
          },
          "metadata": {},
          "execution_count": 16
        },
        {
          "output_type": "display_data",
          "data": {
            "text/plain": [
              "<Figure size 864x756 with 18 Axes>"
            ],
            "image/png": "[encoded data removed]"
          },
          "metadata": {
            "needs_background": "light"
          }
        }
      ]
    }
  ]
}